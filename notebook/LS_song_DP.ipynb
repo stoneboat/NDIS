{
 "cells": [
  {
   "cell_type": "code",
   "execution_count": 1,
   "id": "62ce65b3-174c-48de-8ef7-05c84b6ae11d",
   "metadata": {},
   "outputs": [],
   "source": [
    "import numpy as np\n",
    "from scipy.special import erf\n",
    "import os\n",
    "import sys\n",
    "import time\n",
    "import copy\n",
    "import logging\n",
    "import matplotlib.pyplot as plt\n",
    "\n",
    "# Navigate to the parent directory of the project structure\n",
    "project_dir = os.path.abspath(os.path.join(os.getcwd(), '..'))\n",
    "src_dir = os.path.join(project_dir, 'src')\n",
    "log_dir = os.path.join(project_dir, 'log')\n",
    "fig_dir = os.path.join(project_dir, 'fig')\n",
    "\n",
    "# Add the src directory to sys.path\n",
    "sys.path.append(src_dir)\n",
    "\n",
    "\n",
    "from utils.constants import WORKERS, BATCH_SAMPLES\n",
    "from utils.commons import convert_bytes_to_mb, convert_bytes_to_gb\n",
    "from Dataset.flight_dataset_for_LS import load_flight_dataset_matrices_for_LS, save_flight_dataset_matrices_for_LS\n",
    "from Dataset.cancer_dataset_for_LS import main_generate_cancer_matrices_for_LS, load_cancer_dataset_matrices_for_LS\n",
    "from Dataset.songs_dataset_for_LS import load_song_dataset_matrices_for_LS\n",
    "from analysis.commons import data_normalize_by_features, concatenate_B_b, twoNorm, data_normalize_by_sample\n",
    "\n",
    "from RP_mechanisms.optim_RP import parallel_gen_samples\n",
    "from RP_mechanisms.optim_RP_DP import compute_largest_l2\n",
    "from LS_mechanisms.optim_LS import lev_evaluate_ALS\n",
    "from LS_mechanisms.alt19_LS import ALT19LS_mech\n",
    "from LS_mechanisms.optim_LS_DP import ALS, ALS_mech, LS_fromoptim_RP_mech, OptimalLS_mech\n",
    "from LS_mechanisms.LS_accuracy_estimator import LS_accuracy_estimator\n",
    "\n",
    "from analysis.commons import compute_xopt, split_to_B_b"
   ]
  },
  {
   "cell_type": "code",
   "execution_count": 2,
   "id": "2bbe5a75-b2ec-43cf-bfb1-449dd8f212ab",
   "metadata": {},
   "outputs": [],
   "source": [
    "logfile_path = os.path.join(log_dir, 'LS-song-default.log')\n",
    "logging.basicConfig(\n",
    "    level=logging.INFO,\n",
    "    format=\"%(asctime)s %(message)s\",\n",
    "    handlers=[\n",
    "        logging.FileHandler(logfile_path),\n",
    "        logging.StreamHandler()\n",
    "    ]\n",
    ")\n",
    "\n",
    "def store_array_str(data_array):\n",
    "    converted_str = np.array_str(data_array)\n",
    "    converted_str = converted_str.replace(' ',',')\n",
    "    return converted_str\n",
    "\n",
    "file_path = os.path.join(project_dir, \"Dataset\", \"YearPredictionMSD.txt\")\n",
    "\n",
    "X = None\n",
    "y = None\n",
    "\n",
    "X, y = load_song_dataset_matrices_for_LS(file_path)\n",
    "\n",
    "B, b = data_normalize_by_features(X, y)\n",
    "A = concatenate_B_b(B, b)"
   ]
  },
  {
   "cell_type": "code",
   "execution_count": 3,
   "id": "0f17ee28-17f1-48cc-aa35-bb0dcdfa5988",
   "metadata": {},
   "outputs": [],
   "source": [
    "def generate_default_configuration():\n",
    "    kwargs = {\n",
    "        'database': A,\n",
    "        'r' : 3000,\n",
    "        'CI' : 0.95,\n",
    "        'bootstrap_samples': 100, \n",
    "        'l2' : compute_largest_l2(A)\n",
    "    }\n",
    "    \n",
    "    return kwargs\n",
    "\n",
    "kwargs = generate_default_configuration()"
   ]
  },
  {
   "cell_type": "code",
   "execution_count": 4,
   "id": "92d10de1-0b56-4bd3-9809-953f9b17edef",
   "metadata": {},
   "outputs": [
    {
     "data": {
      "text/plain": [
       "3.37428853013739"
      ]
     },
     "execution_count": 4,
     "metadata": {},
     "output_type": "execute_result"
    }
   ],
   "source": [
    "mech = OptimalLS_mech(kwargs)\n",
    "\n",
    "epsilon = 1\n",
    "delta = 1/mech.n\n",
    "\n",
    "mech.find_minimal_sigma(epsilon, delta)"
   ]
  },
  {
   "cell_type": "code",
   "execution_count": 5,
   "id": "8f0926aa-fc1d-447b-b8a0-63dcf555809d",
   "metadata": {},
   "outputs": [
    {
     "name": "stderr",
     "output_type": "stream",
     "text": [
      "2024-12-09 13:55:42,570 cost 3.8633 seconds\n"
     ]
    }
   ],
   "source": [
    "mech = OptimalLS_mech(kwargs)\n",
    "\n",
    "epsilon = 1\n",
    "delta = 1/mech.n\n",
    "num_samples = 100\n",
    "\n",
    "tic = time.perf_counter()\n",
    "samples = mech._gen_samples(epsilon, delta, num_samples)\n",
    "toc = time.perf_counter()\n",
    "logging.critical(f\"cost {toc - tic:0.4f} seconds\")"
   ]
  },
  {
   "cell_type": "code",
   "execution_count": 6,
   "id": "dfad8f21-b84b-4554-9804-22481beb0014",
   "metadata": {},
   "outputs": [
    {
     "name": "stderr",
     "output_type": "stream",
     "text": [
      "2024-12-09 13:55:42,869 (bootstrap_result(lb_one_sided=0.9781407287392299, lb_two_sided=0.9777551760503449, ub_one_sided=0.9846362043391786, ub_two_sided=0.9851263599863281), bootstrap_result(lb_one_sided=4.385452157445099, lb_two_sided=4.381072593863482, ub_one_sided=4.470037438917645, ub_two_sided=4.483247229935248))\n",
      "2024-12-09 13:55:42,870 cost 0.2921 seconds\n"
     ]
    }
   ],
   "source": [
    "tic = time.perf_counter()\n",
    "accuracy_estimator = LS_accuracy_estimator(kwargs)\n",
    "boot_res = accuracy_estimator.estimate_square_error(samples)\n",
    "toc = time.perf_counter()\n",
    "logging.critical(boot_res)\n",
    "logging.critical(f\"cost {toc - tic:0.4f} seconds\")"
   ]
  },
  {
   "cell_type": "code",
   "execution_count": 7,
   "id": "f40982fe-2313-418d-9ec5-53811f78ce6b",
   "metadata": {},
   "outputs": [
    {
     "name": "stderr",
     "output_type": "stream",
     "text": [
      "/home/wei402/Desktop/NDIS/src/RP_mechanisms/optim_RP.py:25: RuntimeWarning: overflow encountered in exp\n",
      "  exp_term = np.exp(epsilon - r / 2 * np.log(1 - leverage)) * (1 - leverage) ** (r / 2.0)\n",
      "/home/wei402/Desktop/NDIS/src/RP_mechanisms/optim_RP.py:25: RuntimeWarning: invalid value encountered in double_scalars\n",
      "  exp_term = np.exp(epsilon - r / 2 * np.log(1 - leverage)) * (1 - leverage) ** (r / 2.0)\n"
     ]
    },
    {
     "data": {
      "text/plain": [
       "0.22412898696475567"
      ]
     },
     "execution_count": 7,
     "metadata": {},
     "output_type": "execute_result"
    }
   ],
   "source": [
    "mech = LS_fromoptim_RP_mech(kwargs)\n",
    "\n",
    "epsilon = 1\n",
    "delta = 1/mech.n\n",
    "\n",
    "mech.find_minimal_sigma(epsilon, delta)"
   ]
  },
  {
   "cell_type": "code",
   "execution_count": 8,
   "id": "d6dfe8cd-ba4b-44ed-a100-b8cd9d8e5c34",
   "metadata": {},
   "outputs": [
    {
     "ename": "KeyboardInterrupt",
     "evalue": "",
     "output_type": "error",
     "traceback": [
      "\u001b[0;31m---------------------------------------------------------------------------\u001b[0m",
      "\u001b[0;31mKeyboardInterrupt\u001b[0m                         Traceback (most recent call last)",
      "\u001b[0;32m<ipython-input-8-ddc73279cc8e>\u001b[0m in \u001b[0;36m<module>\u001b[0;34m\u001b[0m\n\u001b[1;32m      6\u001b[0m \u001b[0;34m\u001b[0m\u001b[0m\n\u001b[1;32m      7\u001b[0m \u001b[0mtic\u001b[0m \u001b[0;34m=\u001b[0m \u001b[0mtime\u001b[0m\u001b[0;34m.\u001b[0m\u001b[0mperf_counter\u001b[0m\u001b[0;34m(\u001b[0m\u001b[0;34m)\u001b[0m\u001b[0;34m\u001b[0m\u001b[0;34m\u001b[0m\u001b[0m\n\u001b[0;32m----> 8\u001b[0;31m \u001b[0msamples\u001b[0m \u001b[0;34m=\u001b[0m \u001b[0mmech\u001b[0m\u001b[0;34m.\u001b[0m\u001b[0m_gen_samples\u001b[0m\u001b[0;34m(\u001b[0m\u001b[0mepsilon\u001b[0m\u001b[0;34m,\u001b[0m \u001b[0mdelta\u001b[0m\u001b[0;34m,\u001b[0m \u001b[0mnum_samples\u001b[0m\u001b[0;34m)\u001b[0m\u001b[0;34m\u001b[0m\u001b[0;34m\u001b[0m\u001b[0m\n\u001b[0m\u001b[1;32m      9\u001b[0m \u001b[0mtoc\u001b[0m \u001b[0;34m=\u001b[0m \u001b[0mtime\u001b[0m\u001b[0;34m.\u001b[0m\u001b[0mperf_counter\u001b[0m\u001b[0;34m(\u001b[0m\u001b[0;34m)\u001b[0m\u001b[0;34m\u001b[0m\u001b[0;34m\u001b[0m\u001b[0m\n\u001b[1;32m     10\u001b[0m \u001b[0mlogging\u001b[0m\u001b[0;34m.\u001b[0m\u001b[0mcritical\u001b[0m\u001b[0;34m(\u001b[0m\u001b[0;34mf\"cost {toc - tic:0.4f} seconds\"\u001b[0m\u001b[0;34m)\u001b[0m\u001b[0;34m\u001b[0m\u001b[0;34m\u001b[0m\u001b[0m\n",
      "\u001b[0;32m~/Desktop/NDIS/src/LS_mechanisms/optim_LS_DP.py\u001b[0m in \u001b[0;36m_gen_samples\u001b[0;34m(self, epsilon, delta, num_samples)\u001b[0m\n\u001b[1;32m    165\u001b[0m         \u001b[0;32mfor\u001b[0m \u001b[0mi\u001b[0m \u001b[0;32min\u001b[0m \u001b[0mrange\u001b[0m\u001b[0;34m(\u001b[0m\u001b[0mnum_samples\u001b[0m\u001b[0;34m)\u001b[0m\u001b[0;34m:\u001b[0m\u001b[0;34m\u001b[0m\u001b[0;34m\u001b[0m\u001b[0m\n\u001b[1;32m    166\u001b[0m             \u001b[0mr_piece\u001b[0m \u001b[0;34m=\u001b[0m \u001b[0mnp\u001b[0m\u001b[0;34m.\u001b[0m\u001b[0mminimum\u001b[0m\u001b[0;34m(\u001b[0m\u001b[0mself\u001b[0m\u001b[0;34m.\u001b[0m\u001b[0mchunk_size\u001b[0m\u001b[0;34m,\u001b[0m \u001b[0mself\u001b[0m\u001b[0;34m.\u001b[0m\u001b[0mr\u001b[0m\u001b[0;34m)\u001b[0m\u001b[0;34m\u001b[0m\u001b[0;34m\u001b[0m\u001b[0m\n\u001b[0;32m--> 167\u001b[0;31m             \u001b[0mnoise1\u001b[0m \u001b[0;34m=\u001b[0m \u001b[0mself\u001b[0m\u001b[0;34m.\u001b[0m\u001b[0mrng\u001b[0m\u001b[0;34m.\u001b[0m\u001b[0mnormal\u001b[0m\u001b[0;34m(\u001b[0m\u001b[0mloc\u001b[0m\u001b[0;34m=\u001b[0m\u001b[0;36m0\u001b[0m\u001b[0;34m,\u001b[0m \u001b[0mscale\u001b[0m\u001b[0;34m=\u001b[0m\u001b[0;36m1\u001b[0m\u001b[0;34m,\u001b[0m \u001b[0msize\u001b[0m\u001b[0;34m=\u001b[0m\u001b[0;34m(\u001b[0m\u001b[0mr_piece\u001b[0m\u001b[0;34m,\u001b[0m \u001b[0mX\u001b[0m\u001b[0;34m.\u001b[0m\u001b[0mshape\u001b[0m\u001b[0;34m[\u001b[0m\u001b[0;36m0\u001b[0m\u001b[0;34m]\u001b[0m\u001b[0;34m)\u001b[0m\u001b[0;34m)\u001b[0m\u001b[0;34m\u001b[0m\u001b[0;34m\u001b[0m\u001b[0m\n\u001b[0m\u001b[1;32m    168\u001b[0m             \u001b[0mpi_X\u001b[0m \u001b[0;34m=\u001b[0m \u001b[0mnoise1\u001b[0m \u001b[0;34m@\u001b[0m \u001b[0mX\u001b[0m\u001b[0;34m\u001b[0m\u001b[0;34m\u001b[0m\u001b[0m\n\u001b[1;32m    169\u001b[0m             \u001b[0mpointer\u001b[0m \u001b[0;34m=\u001b[0m \u001b[0mr_piece\u001b[0m\u001b[0;34m\u001b[0m\u001b[0;34m\u001b[0m\u001b[0m\n",
      "\u001b[0;31mKeyboardInterrupt\u001b[0m: "
     ]
    }
   ],
   "source": [
    "mech = LS_fromoptim_RP_mech(kwargs)\n",
    "\n",
    "epsilon = 1\n",
    "delta = 1/mech.n\n",
    "num_samples = 100\n",
    "\n",
    "tic = time.perf_counter()\n",
    "samples = mech._gen_samples(epsilon, delta, num_samples)\n",
    "toc = time.perf_counter()\n",
    "logging.critical(f\"cost {toc - tic:0.4f} seconds\")"
   ]
  },
  {
   "cell_type": "code",
   "execution_count": null,
   "id": "10444e56-2d9f-4589-a42d-c6cc178e7be8",
   "metadata": {},
   "outputs": [],
   "source": [
    "tic = time.perf_counter()\n",
    "accuracy_estimator = LS_accuracy_estimator(kwargs)\n",
    "boot_res = accuracy_estimator.estimate_square_error(samples)\n",
    "toc = time.perf_counter()\n",
    "logging.critical(boot_res)\n",
    "logging.critical(f\"cost {toc - tic:0.4f} seconds\")"
   ]
  },
  {
   "cell_type": "code",
   "execution_count": null,
   "id": "ca10c112-18a0-46ce-8c0b-5775b6266500",
   "metadata": {},
   "outputs": [],
   "source": [
    "mech = ALT19LS_mech(kwargs)\n",
    "\n",
    "epsilon = 1\n",
    "delta = 1/mech.n\n",
    "\n",
    "mech.compute_constant(epsilon, delta)"
   ]
  },
  {
   "cell_type": "code",
   "execution_count": null,
   "id": "b60e71e2-5ea6-4058-ab02-ddc900393227",
   "metadata": {},
   "outputs": [],
   "source": [
    "mech = ALT19LS_mech(kwargs)\n",
    "\n",
    "epsilon = 1\n",
    "delta = 1/mech.n\n",
    "num_samples = 100\n",
    "\n",
    "tic = time.perf_counter()\n",
    "samples = mech._gen_samples(epsilon, delta, num_samples)\n",
    "toc = time.perf_counter()\n",
    "logging.critical(f\"cost {toc - tic:0.4f} seconds\")"
   ]
  },
  {
   "cell_type": "code",
   "execution_count": null,
   "id": "bc019395-284e-46e6-8eb6-9f1dccfcc60b",
   "metadata": {},
   "outputs": [],
   "source": [
    "tic = time.perf_counter()\n",
    "accuracy_estimator = LS_accuracy_estimator(kwargs)\n",
    "boot_res = accuracy_estimator.estimate_square_error(samples)\n",
    "toc = time.perf_counter()\n",
    "logging.critical(boot_res)\n",
    "logging.critical(f\"cost {toc - tic:0.4f} seconds\")"
   ]
  },
  {
   "cell_type": "code",
   "execution_count": null,
   "id": "2f294eec-bb8e-4316-a4c8-e05af4f3e455",
   "metadata": {},
   "outputs": [],
   "source": []
  }
 ],
 "metadata": {
  "kernelspec": {
   "display_name": "Python 3.8 - Learning [learning/conda-2020.11-py38-cpu]",
   "language": "python",
   "name": "sys_learning38"
  },
  "language_info": {
   "codemirror_mode": {
    "name": "ipython",
    "version": 3
   },
   "file_extension": ".py",
   "mimetype": "text/x-python",
   "name": "python",
   "nbconvert_exporter": "python",
   "pygments_lexer": "ipython3",
   "version": "3.8.5"
  }
 },
 "nbformat": 4,
 "nbformat_minor": 5
}
