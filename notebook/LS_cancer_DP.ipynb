{
 "cells": [
  {
   "cell_type": "code",
   "execution_count": 1,
   "id": "62ce65b3-174c-48de-8ef7-05c84b6ae11d",
   "metadata": {},
   "outputs": [],
   "source": [
    "import numpy as np\n",
    "from scipy.special import erf\n",
    "import os\n",
    "import sys\n",
    "import time\n",
    "import copy\n",
    "import logging\n",
    "import matplotlib.pyplot as plt\n",
    "\n",
    "# Navigate to the parent directory of the project structure\n",
    "project_dir = os.path.abspath(os.path.join(os.getcwd(), '..'))\n",
    "src_dir = os.path.join(project_dir, 'src')\n",
    "log_dir = os.path.join(project_dir, 'log')\n",
    "fig_dir = os.path.join(project_dir, 'fig')\n",
    "\n",
    "# Add the src directory to sys.path\n",
    "sys.path.append(src_dir)\n",
    "\n",
    "\n",
    "from utils.constants import WORKERS, BATCH_SAMPLES\n",
    "from utils.commons import convert_bytes_to_mb, convert_bytes_to_gb\n",
    "from Dataset.flight_dataset_for_LS import load_flight_dataset_matrices_for_LS, save_flight_dataset_matrices_for_LS\n",
    "from Dataset.cancer_dataset_for_LS import main_generate_cancer_matrices_for_LS, load_cancer_dataset_matrices_for_LS\n",
    "from Dataset.songs_dataset_for_LS import load_song_dataset_matrices_for_LS\n",
    "from analysis.commons import data_normalize_by_features, concatenate_B_b, twoNorm, data_normalize_by_sample\n",
    "\n",
    "from RP_mechanisms.optim_RP import parallel_gen_samples\n",
    "from RP_mechanisms.optim_RP_DP import compute_largest_l2\n",
    "from LS_mechanisms.optim_LS import lev_evaluate_ALS\n",
    "from LS_mechanisms.alt19_LS import ALT19LS_mech\n",
    "from LS_mechanisms.optim_LS_DP import ALS, ALS_mech, LS_fromoptim_RP_mech, OptimalLS_mech\n",
    "from LS_mechanisms.LS_accuracy_estimator import LS_accuracy_estimator\n",
    "\n",
    "from analysis.commons import compute_xopt, split_to_B_b"
   ]
  },
  {
   "cell_type": "code",
   "execution_count": 2,
   "id": "2bbe5a75-b2ec-43cf-bfb1-449dd8f212ab",
   "metadata": {},
   "outputs": [],
   "source": [
    "logfile_path = os.path.join(log_dir, 'LS-cancer-default.log')\n",
    "logging.basicConfig(\n",
    "    level=logging.INFO,\n",
    "    format=\"%(asctime)s %(message)s\",\n",
    "    handlers=[\n",
    "        logging.FileHandler(logfile_path),\n",
    "        logging.StreamHandler()\n",
    "    ]\n",
    ")\n",
    "\n",
    "def store_array_str(data_array):\n",
    "    converted_str = np.array_str(data_array)\n",
    "    converted_str = converted_str.replace(' ',',')\n",
    "    return converted_str\n",
    "\n",
    "file_X_path = os.path.join(project_dir, \"Dataset\", \"cancer-LR-X.txt\")\n",
    "file_y_path = os.path.join(project_dir, \"Dataset\", \"cancer-LR-y.txt\")\n",
    "\n",
    "X = None\n",
    "y = None\n",
    "try:\n",
    "    X, y = load_cancer_dataset_matrices_for_LS(file_X_name=file_X_path, file_y_name=file_y_path)\n",
    "except:\n",
    "    main_generate_cancer_matrices_for_LS(file_X_name=file_X_path, file_y_name=file_y_path)\n",
    "    X, y = load_cancer_dataset_matrices_for_LS()"
   ]
  },
  {
   "cell_type": "code",
   "execution_count": 3,
   "id": "0f17ee28-17f1-48cc-aa35-bb0dcdfa5988",
   "metadata": {},
   "outputs": [],
   "source": [
    "from sklearn.preprocessing import StandardScaler\n",
    "from sklearn.decomposition import PCA\n",
    "\n",
    "B, b = data_normalize_by_features(X, y)\n",
    "A = concatenate_B_b(B, b)"
   ]
  },
  {
   "cell_type": "code",
   "execution_count": 4,
   "id": "19678beb-b4cb-4388-b736-1051c5d9cbd4",
   "metadata": {},
   "outputs": [],
   "source": [
    "def generate_default_configuration():\n",
    "    kwargs = {\n",
    "        'database': A,\n",
    "        'r' : 300,\n",
    "        'CI' : 0.95,\n",
    "        'bootstrap_samples': 100, \n",
    "        'l2' : compute_largest_l2(A)\n",
    "    }\n",
    "    \n",
    "    return kwargs\n",
    "\n",
    "kwargs = generate_default_configuration()"
   ]
  },
  {
   "cell_type": "code",
   "execution_count": 5,
   "id": "92d10de1-0b56-4bd3-9809-953f9b17edef",
   "metadata": {},
   "outputs": [
    {
     "data": {
      "text/plain": [
       "7.917416411545128"
      ]
     },
     "execution_count": 5,
     "metadata": {},
     "output_type": "execute_result"
    }
   ],
   "source": [
    "mech = OptimalLS_mech(kwargs)\n",
    "\n",
    "epsilon = 1\n",
    "delta = 1/mech.n\n",
    "\n",
    "mech.find_minimal_sigma(epsilon, delta)"
   ]
  },
  {
   "cell_type": "code",
   "execution_count": 6,
   "id": "8f0926aa-fc1d-447b-b8a0-63dcf555809d",
   "metadata": {},
   "outputs": [
    {
     "name": "stderr",
     "output_type": "stream",
     "text": [
      "2024-12-09 13:49:30,048 cost 2.9121 seconds\n"
     ]
    }
   ],
   "source": [
    "mech = OptimalLS_mech(kwargs)\n",
    "\n",
    "epsilon = 1\n",
    "delta = 1/mech.n\n",
    "num_samples = 100\n",
    "\n",
    "tic = time.perf_counter()\n",
    "samples = mech._gen_samples(epsilon, delta, num_samples)\n",
    "toc = time.perf_counter()\n",
    "logging.critical(f\"cost {toc - tic:0.4f} seconds\")"
   ]
  },
  {
   "cell_type": "code",
   "execution_count": 7,
   "id": "dfad8f21-b84b-4554-9804-22481beb0014",
   "metadata": {},
   "outputs": [
    {
     "name": "stderr",
     "output_type": "stream",
     "text": [
      "2024-12-09 13:49:30,078 (bootstrap_result(lb_one_sided=0.9934134454261916, lb_two_sided=0.9908457274144706, ub_one_sided=1.015283658395076, ub_two_sided=1.0172217926678684), bootstrap_result(lb_one_sided=4.655879996185734, lb_two_sided=4.611210688927406, ub_one_sided=4.954623840424202, ub_two_sided=4.979501546586674))\n",
      "2024-12-09 13:49:30,079 cost 0.0217 seconds\n"
     ]
    }
   ],
   "source": [
    "tic = time.perf_counter()\n",
    "accuracy_estimator = LS_accuracy_estimator(kwargs)\n",
    "boot_res = accuracy_estimator.estimate_square_error(samples)\n",
    "toc = time.perf_counter()\n",
    "logging.critical(boot_res)\n",
    "logging.critical(f\"cost {toc - tic:0.4f} seconds\")"
   ]
  },
  {
   "cell_type": "code",
   "execution_count": 8,
   "id": "f40982fe-2313-418d-9ec5-53811f78ce6b",
   "metadata": {},
   "outputs": [
    {
     "name": "stderr",
     "output_type": "stream",
     "text": [
      "/home/wei402/Desktop/NDIS/src/RP_mechanisms/optim_RP.py:25: RuntimeWarning: overflow encountered in exp\n",
      "  exp_term = np.exp(epsilon - r / 2 * np.log(1 - leverage)) * (1 - leverage) ** (r / 2.0)\n",
      "/home/wei402/Desktop/NDIS/src/RP_mechanisms/optim_RP.py:25: RuntimeWarning: invalid value encountered in double_scalars\n",
      "  exp_term = np.exp(epsilon - r / 2 * np.log(1 - leverage)) * (1 - leverage) ** (r / 2.0)\n"
     ]
    },
    {
     "data": {
      "text/plain": [
       "6.850481817751286"
      ]
     },
     "execution_count": 8,
     "metadata": {},
     "output_type": "execute_result"
    }
   ],
   "source": [
    "mech = LS_fromoptim_RP_mech(kwargs)\n",
    "\n",
    "epsilon = 1\n",
    "delta = 1/mech.n\n",
    "\n",
    "mech.find_minimal_sigma(epsilon, delta)"
   ]
  },
  {
   "cell_type": "code",
   "execution_count": 9,
   "id": "d6dfe8cd-ba4b-44ed-a100-b8cd9d8e5c34",
   "metadata": {},
   "outputs": [
    {
     "name": "stderr",
     "output_type": "stream",
     "text": [
      "2024-12-09 13:49:33,753 cost 3.6529 seconds\n"
     ]
    }
   ],
   "source": [
    "mech = LS_fromoptim_RP_mech(kwargs)\n",
    "\n",
    "epsilon = 1\n",
    "delta = 1/mech.n\n",
    "num_samples = 100\n",
    "\n",
    "tic = time.perf_counter()\n",
    "samples = mech._gen_samples(epsilon, delta, num_samples)\n",
    "toc = time.perf_counter()\n",
    "logging.critical(f\"cost {toc - tic:0.4f} seconds\")"
   ]
  },
  {
   "cell_type": "code",
   "execution_count": 10,
   "id": "10444e56-2d9f-4589-a42d-c6cc178e7be8",
   "metadata": {},
   "outputs": [
    {
     "name": "stderr",
     "output_type": "stream",
     "text": [
      "2024-12-09 13:49:33,779 (bootstrap_result(lb_one_sided=0.9885616200260687, lb_two_sided=0.9852351695906951, ub_one_sided=1.0116997806786534, ub_two_sided=1.0135634397193785), bootstrap_result(lb_one_sided=4.572130909755145, lb_two_sided=4.564900202687261, ub_one_sided=4.94343031022764, ub_two_sided=4.965550983013155))\n",
      "2024-12-09 13:49:33,780 cost 0.0212 seconds\n"
     ]
    }
   ],
   "source": [
    "tic = time.perf_counter()\n",
    "accuracy_estimator = LS_accuracy_estimator(kwargs)\n",
    "boot_res = accuracy_estimator.estimate_square_error(samples)\n",
    "toc = time.perf_counter()\n",
    "logging.critical(boot_res)\n",
    "logging.critical(f\"cost {toc - tic:0.4f} seconds\")"
   ]
  },
  {
   "cell_type": "code",
   "execution_count": 11,
   "id": "ca10c112-18a0-46ce-8c0b-5775b6266500",
   "metadata": {},
   "outputs": [
    {
     "data": {
      "text/plain": [
       "20.317246800063643"
      ]
     },
     "execution_count": 11,
     "metadata": {},
     "output_type": "execute_result"
    }
   ],
   "source": [
    "mech = ALT19LS_mech(kwargs)\n",
    "\n",
    "epsilon = 1\n",
    "delta = 1/mech.n\n",
    "\n",
    "mech.compute_constant(epsilon, delta)"
   ]
  },
  {
   "cell_type": "code",
   "execution_count": 12,
   "id": "b60e71e2-5ea6-4058-ab02-ddc900393227",
   "metadata": {},
   "outputs": [
    {
     "name": "stderr",
     "output_type": "stream",
     "text": [
      "2024-12-09 13:49:37,501 cost 3.6778 seconds\n"
     ]
    }
   ],
   "source": [
    "mech = ALT19LS_mech(kwargs)\n",
    "\n",
    "epsilon = 1\n",
    "delta = 1/mech.n\n",
    "num_samples = 100\n",
    "\n",
    "tic = time.perf_counter()\n",
    "samples = mech._gen_samples(epsilon, delta, num_samples)\n",
    "toc = time.perf_counter()\n",
    "logging.critical(f\"cost {toc - tic:0.4f} seconds\")"
   ]
  },
  {
   "cell_type": "code",
   "execution_count": 13,
   "id": "bc019395-284e-46e6-8eb6-9f1dccfcc60b",
   "metadata": {},
   "outputs": [
    {
     "name": "stderr",
     "output_type": "stream",
     "text": [
      "2024-12-09 13:49:37,530 (bootstrap_result(lb_one_sided=1.0086856522426992, lb_two_sided=1.007492163244649, ub_one_sided=1.0262400187021694, ub_two_sided=1.0273557378827438), bootstrap_result(lb_one_sided=4.8361316396624145, lb_two_sided=4.780837145158732, ub_one_sided=5.185719865788297, ub_two_sided=5.196437815072298))\n",
      "2024-12-09 13:49:37,531 cost 0.0221 seconds\n"
     ]
    }
   ],
   "source": [
    "tic = time.perf_counter()\n",
    "accuracy_estimator = LS_accuracy_estimator(kwargs)\n",
    "boot_res = accuracy_estimator.estimate_square_error(samples)\n",
    "toc = time.perf_counter()\n",
    "logging.critical(boot_res)\n",
    "logging.critical(f\"cost {toc - tic:0.4f} seconds\")"
   ]
  },
  {
   "cell_type": "code",
   "execution_count": null,
   "id": "2f294eec-bb8e-4316-a4c8-e05af4f3e455",
   "metadata": {},
   "outputs": [],
   "source": []
  }
 ],
 "metadata": {
  "kernelspec": {
   "display_name": "Python 3.8 - Learning [learning/conda-2020.11-py38-cpu]",
   "language": "python",
   "name": "sys_learning38"
  },
  "language_info": {
   "codemirror_mode": {
    "name": "ipython",
    "version": 3
   },
   "file_extension": ".py",
   "mimetype": "text/x-python",
   "name": "python",
   "nbconvert_exporter": "python",
   "pygments_lexer": "ipython3",
   "version": "3.8.5"
  }
 },
 "nbformat": 4,
 "nbformat_minor": 5
}
