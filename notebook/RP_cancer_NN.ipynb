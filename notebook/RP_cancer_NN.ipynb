{
 "cells": [
  {
   "cell_type": "code",
   "execution_count": 1,
   "id": "62ce65b3-174c-48de-8ef7-05c84b6ae11d",
   "metadata": {},
   "outputs": [],
   "source": [
    "import numpy as np\n",
    "from scipy.special import erf\n",
    "import os\n",
    "import sys\n",
    "import time\n",
    "import copy\n",
    "import logging\n",
    "import matplotlib.pyplot as plt\n",
    "\n",
    "# Navigate to the parent directory of the project structure\n",
    "project_dir = os.path.abspath(os.path.join(os.getcwd(), '..'))\n",
    "src_dir = os.path.join(project_dir, 'src')\n",
    "log_dir = os.path.join(project_dir, 'log')\n",
    "fig_dir = os.path.join(project_dir, 'fig')\n",
    "\n",
    "# Add the src directory to sys.path\n",
    "sys.path.append(src_dir)\n",
    "\n",
    "from analysis.commons import batch_estimator_estimated_delta, compute_bootstrap_range\n",
    "from utils.constants import BATCH_SAMPLES, WORKERS\n",
    "from utils.commons import convert_bytes_to_mb, convert_bytes_to_gb\n",
    "\n",
    "from estimator.approx_least_square_mechanism import ApproximateLeastSquareEstimator, AsymptoticDistributionEstimator, ApproximateLeastSquareGenerator\n",
    "from Dataset.cancer_dataset_for_LS import main_generate_cancer_matrices_for_LS, load_cancer_dataset_matrices_for_LS\n",
    "\n",
    "from analysis.ALS_privacy_analysis import compute_analytical_asymptotic_delta_for_all_neighbors, get_matrix_Q, get_neighbor_matrix_Q\n",
    "from analysis.ALS_privacy_analysis import compute_analytical_asymptotic_delta_for_epsilon_lists\n",
    "from analysis.ALS_privacy_analysis import compute_analytical_asymptotic_dist_delta, compute_analytical_asymptotic_delta_for_r_lists\n",
    "\n",
    "\n",
    "from analysis.commons import compute_xopt, sample_approx_xopt_error, twoNorm, multiplication_sequence_generating_function\n",
    "from analysis.commons import data_normalize_by_features, data_normalize_by_sample, get_neighbors_index_list, concatenate_B_b, generate_default_configuration\n",
    "from analysis.commons import get_neighbor_B, get_neighbor_b, clac_standard_vec, calc_proj_matrix\n",
    "\n",
    "from analysis.commons import check_equal, compute_approx_xopt, compute_approx_xopt_chunk, get_w\n",
    "from analysis.commons import get_neighbor_w\n",
    "\n",
    "\n",
    "from numpy.linalg import inv as mat_inv\n",
    "from analysis.NDIS_estimator import _check_kd_asymptotic_dist_delta\n",
    "from estimator.GRP import NoiseRandomProjectionEstimator, NoiseRandomProjectionGenerator"
   ]
  },
  {
   "cell_type": "code",
   "execution_count": 2,
   "id": "2bbe5a75-b2ec-43cf-bfb1-449dd8f212ab",
   "metadata": {},
   "outputs": [],
   "source": [
    "logfile_path = os.path.join(log_dir, 'kNN-RP-cancer-default.log')\n",
    "logging.basicConfig(\n",
    "    level=logging.INFO,\n",
    "    format=\"%(asctime)s %(message)s\",\n",
    "    handlers=[\n",
    "        logging.FileHandler(logfile_path),\n",
    "        # logging.StreamHandler()\n",
    "    ]\n",
    ")\n",
    "\n",
    "def store_array_str(data_array):\n",
    "    converted_str = np.array_str(data_array)\n",
    "    converted_str = converted_str.replace(' ',',')\n",
    "    return converted_str\n",
    "\n",
    "file_X_path = os.path.join(project_dir, \"Dataset\", \"cancer-LR-X.txt\")\n",
    "file_y_path = os.path.join(project_dir, \"Dataset\", \"cancer-LR-y.txt\")\n",
    "\n",
    "X = None\n",
    "y = None\n",
    "try:\n",
    "    X, y = load_cancer_dataset_matrices_for_LS(file_X_name=file_X_path, file_y_name=file_y_path)\n",
    "except:\n",
    "    main_generate_cancer_matrices_for_LS(file_X_name=file_X_path, file_y_name=file_y_path)\n",
    "    X, y = load_cancer_dataset_matrices_for_LS()"
   ]
  },
  {
   "cell_type": "code",
   "execution_count": 3,
   "id": "0f17ee28-17f1-48cc-aa35-bb0dcdfa5988",
   "metadata": {},
   "outputs": [],
   "source": [
    "from sklearn.preprocessing import StandardScaler\n",
    "from sklearn.decomposition import PCA\n",
    "\n",
    "B = StandardScaler().fit_transform(X) # normalizing the features\n",
    "pca_factory = PCA(n_components=2)\n",
    "B = pca_factory.fit_transform(B)\n",
    "\n",
    "B, b = data_normalize_by_features(B, y)\n",
    "A = concatenate_B_b(B, b)"
   ]
  },
  {
   "cell_type": "code",
   "execution_count": 4,
   "id": "9aa000bd-c8ab-44c0-b323-d6be8ac90ed8",
   "metadata": {},
   "outputs": [],
   "source": [
    "from scipy.stats import chi2\n",
    "def evaluate_rp_mech(index, A, r, epsilon, sigma):\n",
    "    \"\"\"\n",
    "    Evaluates the expression:\n",
    "\n",
    "        δ(ε) = P(Y >= (1 - leverage)(2ε - rln(1 - leverage))/leverage)\n",
    "               - exp(ε - r/2 * ln(1 - leverage)) * (1 - leverage)^(r/2)\n",
    "                 * P(Y >= (2ε - rln(1 - leverage))/leverage),\n",
    "\n",
    "    where Y is a chi-squared distributed random variable with r degrees of freedom.\n",
    "\n",
    "    Parameters:\n",
    "    leverage (float): The leverage value.\n",
    "    epsilon (float): The epsilon value.\n",
    "    r (int): Degrees of freedom for the chi-squared distribution.\n",
    "\n",
    "    Returns:\n",
    "    float: The evaluated expression.\n",
    "    \"\"\"\n",
    "    v = A[index].copy().reshape(-1, 1)\n",
    "    M = np.linalg.inv(A.T @ A + sigma**2*np.eye(A.shape[1]))\n",
    "    leverage = (v.T@M@v).item()\n",
    "    # Compute the terms inside the probabilities\n",
    "    term1 = (1 - leverage) * (2 * epsilon - r * np.log(1 - leverage)) / leverage\n",
    "\n",
    "    term2 = (2 * epsilon - r * np.log(1 - leverage)) / leverage\n",
    "\n",
    "    # Compute each probability term\n",
    "    prob1 = 1 - chi2.cdf(term1, r)\n",
    "    prob2 = 1 - chi2.cdf(term2, r)\n",
    "\n",
    "    # Compute the exponential term\n",
    "    exp_term = np.exp(epsilon - r / 2 * np.log(1 - leverage)) * (1 - leverage)**(r / 2.0)\n",
    "\n",
    "    # Combine the terms to get the result\n",
    "    result = prob1 - exp_term * prob2\n",
    "\n",
    "    return result"
   ]
  },
  {
   "cell_type": "code",
   "execution_count": 5,
   "id": "4cabf34c-a634-4c8b-8d55-62cc230d296f",
   "metadata": {},
   "outputs": [
    {
     "data": {
      "image/png": "[encoded data removed]",
      "text/plain": [
       "<Figure size 432x288 with 1 Axes>"
      ]
     },
     "metadata": {
      "needs_background": "light"
     },
     "output_type": "display_data"
    }
   ],
   "source": [
    "index = 186\n",
    "epsilon_list = np.arange(0.00001, 1, 0.01)\n",
    "r = 10\n",
    "sigma = 1\n",
    "delta_list = []\n",
    "\n",
    "for epsilon in epsilon_list:\n",
    "    delta_list.append(evaluate_rp_mech(index, A, r, epsilon, sigma))\n",
    "\n",
    "    \n",
    "plt.title(r'spectrum of RP on cancer database')\n",
    "plt.xlabel(r\"$\\varepsilon \\in (0,1)$\")\n",
    "plt.ylabel(\"optimal delta\")\n",
    "plt.grid()\n",
    "plt.plot(epsilon_list, delta_list, color =\"red\", label=r\"Analytically computed $\\delta$\")\n",
    "plt.legend(loc='best')\n",
    "plt.show()"
   ]
  },
  {
   "cell_type": "code",
   "execution_count": 6,
   "id": "87239f30-e46f-43d9-bc37-42780395cf5e",
   "metadata": {},
   "outputs": [],
   "source": [
    "def generate_default_configuration():\n",
    "    claimed_epsilon = 0.1\n",
    "    gamma = 0.01\n",
    "\n",
    "    dataset_settings = {\n",
    "        'database_0': None,\n",
    "        'database_1': None,\n",
    "        'claimed_epsilon': claimed_epsilon,\n",
    "        'r':1\n",
    "    }\n",
    "\n",
    "    kwargs = {\n",
    "        'sigma':sigma,\n",
    "        'dataset_settings': dataset_settings,\n",
    "        'gamma': 0.01,\n",
    "        'training_set_size': 2*(10 ** 6), 'validation_set_size': 10 ** 6,\n",
    "        'samples_file_pos': \"/scratch/bell/wei402/preproceed-samples/RP-cancer-3-pos\",\n",
    "        'samples_file_neg': \"/scratch/bell/wei402/preproceed-samples/RP-cancer-3-neg\",\n",
    "        'batch_size' : 10**6\n",
    "    }\n",
    "    \n",
    "    return kwargs\n",
    "\n",
    "kwargs = generate_default_configuration()\n",
    "\n",
    "dataset_settings = {\n",
    "    'database_0': get_neighbor_B(index, A).T,\n",
    "    'database_1': A.T,\n",
    "    'r': 10\n",
    "}\n",
    "\n",
    "kwargs['dataset_settings'] = dataset_settings\n",
    "\n",
    "file_name = \"/scratch/bell/wei402/nn-temp/DP-test-RP-5\"\n",
    "classifier_args = {\"n_epoch\": 20, \"batch_size\": 1000, \"lr\": 0.0001, \"n_batches\": 100, \"model\": None}"
   ]
  },
  {
   "cell_type": "code",
   "execution_count": 7,
   "id": "c5d10ebf-3326-444f-b012-2b65eb8872e2",
   "metadata": {},
   "outputs": [],
   "source": [
    "claimed_epsilon = 0\n",
    "kwargs['dataset_settings']['claimed_epsilon'] = claimed_epsilon\n",
    "estimator = NoiseRandomProjectionEstimator(kwargs) \n",
    "\n",
    "estimator.preprocess_sample(workers=60, generate_positive_sample=True)\n",
    "estimator.preprocess_sample(workers=60, generate_positive_sample=False)"
   ]
  },
  {
   "cell_type": "code",
   "execution_count": null,
   "id": "f34c53c6-ff58-4157-bafd-3f0a426f7a7b",
   "metadata": {},
   "outputs": [],
   "source": [
    "claimed_epsilon_list = np.arange(0, 1.1, 0.1)\n",
    "input_list = []\n",
    "estimated_delta = []\n",
    "for claimed_epsilon in claimed_epsilon_list:\n",
    "    kwargs['dataset_settings']['claimed_epsilon'] = claimed_epsilon\n",
    "    estimator = NoiseRandomProjectionEstimator(kwargs) \n",
    "    estimator.parallel_build_nn(file_name=file_name, workers=60, classifier_args=classifier_args, preproceed_samples=True)\n",
    "    logging.critical(estimator.output_)\n",
    "    estimated_delta.append(estimator.output_['estimated_delta'])\n",
    "    logging.critical(store_array_str(np.array(estimated_delta)))\n",
    "\n",
    "estimated_delta_list = np.array(estimated_delta)"
   ]
  },
  {
   "cell_type": "code",
   "execution_count": 9,
   "id": "35fde0a1-cdd8-4a5b-aab6-fbdb89c1df61",
   "metadata": {},
   "outputs": [
    {
     "data": {
      "image/png": "[encoded data removed]",
      "text/plain": [
       "<Figure size 432x288 with 1 Axes>"
      ]
     },
     "metadata": {
      "needs_background": "light"
     },
     "output_type": "display_data"
    }
   ],
   "source": [
    "figfile_path = os.path.join(fig_dir, 'RP_cancer.png')\n",
    "\n",
    "plt.title(r\"IS of RP on cancer dataset, $n=2809, d=2, r=10$\")\n",
    "plt.xlabel(r\"$\\epsilon \\in (0, 1)$\")\n",
    "plt.ylabel(r\"optimal delta\")\n",
    "plt.grid()\n",
    "plt.plot(epsilon_list, delta_list , color =\"blue\", label=r\"theoretical $\\delta$\")\n",
    "plt.plot(claimed_epsilon_list, estimated_delta_list, \"*\", color =\"red\", label=\"estimated $\\delta$\")\n",
    "plt.legend(loc='best')\n",
    "plt.savefig(figfile_path, bbox_inches = 'tight', dpi = 150);\n",
    "plt.show()"
   ]
  },
  {
   "cell_type": "code",
   "execution_count": null,
   "id": "19678beb-b4cb-4388-b736-1051c5d9cbd4",
   "metadata": {},
   "outputs": [],
   "source": []
  }
 ],
 "metadata": {
  "kernelspec": {
   "display_name": "Python 3.8 - Learning [learning/conda-2020.11-py38-cpu]",
   "language": "python",
   "name": "sys_learning38"
  },
  "language_info": {
   "codemirror_mode": {
    "name": "ipython",
    "version": 3
   },
   "file_extension": ".py",
   "mimetype": "text/x-python",
   "name": "python",
   "nbconvert_exporter": "python",
   "pygments_lexer": "ipython3",
   "version": "3.8.5"
  }
 },
 "nbformat": 4,
 "nbformat_minor": 5
}
