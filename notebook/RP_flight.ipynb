{
 "cells": [
  {
   "cell_type": "code",
   "execution_count": 1,
   "id": "62ce65b3-174c-48de-8ef7-05c84b6ae11d",
   "metadata": {},
   "outputs": [],
   "source": [
    "import numpy as np\n",
    "from scipy.special import erf\n",
    "import os\n",
    "import sys\n",
    "import time\n",
    "import copy\n",
    "import logging\n",
    "import matplotlib.pyplot as plt\n",
    "\n",
    "# Navigate to the parent directory of the project structure\n",
    "project_dir = os.path.abspath(os.path.join(os.getcwd(), '..'))\n",
    "src_dir = os.path.join(project_dir, 'src')\n",
    "log_dir = os.path.join(project_dir, 'log')\n",
    "fig_dir = os.path.join(project_dir, 'fig')\n",
    "\n",
    "# Add the src directory to sys.path\n",
    "sys.path.append(src_dir)\n",
    "\n",
    "\n",
    "from utils.constants import WORKERS, BATCH_SAMPLES\n",
    "from utils.commons import convert_bytes_to_mb, convert_bytes_to_gb\n",
    "from Dataset.flight_dataset_for_LS import load_flight_dataset_matrices_for_LS, save_flight_dataset_matrices_for_LS\n",
    "from Dataset.cancer_dataset_for_LS import main_generate_cancer_matrices_for_LS, load_cancer_dataset_matrices_for_LS\n",
    "from Dataset.songs_dataset_for_LS import load_song_dataset_matrices_for_LS\n",
    "from analysis.commons import data_normalize_by_features, concatenate_B_b, twoNorm, data_normalize_by_sample\n",
    "\n",
    "from RP_mechanisms.optim_RP import OptimalRP_mech, parallel_gen_samples\n",
    "from RP_mechanisms.alt19_RP import ALT19RP_mech\n",
    "from RP_mechanisms.RP_accuracy_estimator import RP_accuracy_estimator\n",
    "from RP_mechanisms.isit18_RP import ISIT18RP_mech\n",
    "\n",
    "from analysis.commons import compute_xopt, split_to_B_b"
   ]
  },
  {
   "cell_type": "code",
   "execution_count": 3,
   "id": "2bbe5a75-b2ec-43cf-bfb1-449dd8f212ab",
   "metadata": {},
   "outputs": [],
   "source": [
    "logfile_path = os.path.join(log_dir, 'RP-flight-default.log')\n",
    "logging.basicConfig(\n",
    "    level=logging.INFO,\n",
    "    format=\"%(asctime)s %(message)s\",\n",
    "    handlers=[\n",
    "        logging.FileHandler(logfile_path),\n",
    "        logging.StreamHandler()\n",
    "    ]\n",
    ")\n",
    "\n",
    "def store_array_str(data_array):\n",
    "    converted_str = np.array_str(data_array)\n",
    "    converted_str = converted_str.replace(' ',',')\n",
    "    return converted_str\n",
    "\n",
    "file_X_path = os.path.join(project_dir, \"Dataset\", \"flight-LR-X.txt\")\n",
    "file_y_path = os.path.join(project_dir, \"Dataset\", \"flight-LR-y.txt\")\n",
    "\n",
    "X = None\n",
    "y = None\n",
    "try:\n",
    "    X, y = load_flight_dataset_matrices_for_LS(file_X_name=file_X_path, file_y_name=file_y_path)\n",
    "except:\n",
    "    save_flight_dataset_matrices_for_LS(file_X_name=file_X_path, file_y_name=file_y_path)\n",
    "    X, y = load_flight_dataset_matrices_for_LS()\n",
    "    \n",
    "B, b = data_normalize_by_features(X, y)\n",
    "A = concatenate_B_b(B, b)"
   ]
  },
  {
   "cell_type": "code",
   "execution_count": 4,
   "id": "0f17ee28-17f1-48cc-aa35-bb0dcdfa5988",
   "metadata": {},
   "outputs": [],
   "source": [
    "def generate_default_configuration():\n",
    "    kwargs = {\n",
    "        'database': A,\n",
    "        'r' : 1200,\n",
    "        'CI' : 0.95,\n",
    "        'bootstrap_samples': 100\n",
    "    }\n",
    "    \n",
    "    return kwargs\n",
    "\n",
    "kwargs = generate_default_configuration()"
   ]
  },
  {
   "cell_type": "code",
   "execution_count": 5,
   "id": "19678beb-b4cb-4388-b736-1051c5d9cbd4",
   "metadata": {},
   "outputs": [
    {
     "name": "stdout",
     "output_type": "stream",
     "text": [
      "0.7452001524823914\n"
     ]
    },
    {
     "name": "stderr",
     "output_type": "stream",
     "text": [
      "/home/wei402/Desktop/NDIS/src/RP_mechanisms/optim_RP.py:25: RuntimeWarning: overflow encountered in exp\n",
      "  exp_term = np.exp(epsilon - r / 2 * np.log(1 - leverage)) * (1 - leverage) ** (r / 2.0)\n",
      "/home/wei402/Desktop/NDIS/src/RP_mechanisms/optim_RP.py:25: RuntimeWarning: invalid value encountered in double_scalars\n",
      "  exp_term = np.exp(epsilon - r / 2 * np.log(1 - leverage)) * (1 - leverage) ** (r / 2.0)\n"
     ]
    }
   ],
   "source": [
    "mech = OptimalRP_mech(kwargs)\n",
    "\n",
    "epsilon = 1\n",
    "delta = 1/mech.n\n",
    "num_samples = 100\n",
    "sigma = mech.find_minimal_sigma(epsilon, delta)\n",
    "# samples = mech._gen_samples(epsilon, delta=delta, num_samples=num_samples)\n",
    "print(sigma)"
   ]
  },
  {
   "cell_type": "code",
   "execution_count": 6,
   "id": "f870504e-409a-4d95-9c31-976340379d8a",
   "metadata": {},
   "outputs": [
    {
     "name": "stderr",
     "output_type": "stream",
     "text": [
      "2024-12-09 14:12:54,786 cost 38.7758 seconds\n"
     ]
    }
   ],
   "source": [
    "isit_mech = ISIT18RP_mech(kwargs)\n",
    "\n",
    "epsilon = 1\n",
    "delta = 1/isit_mech.n\n",
    "num_samples = 100\n",
    "tic = time.perf_counter()\n",
    "isit_samples = parallel_gen_samples(isit_mech, epsilon, delta, num_samples, workers=50)\n",
    "toc = time.perf_counter()\n",
    "logging.critical(f\"cost {toc - tic:0.4f} seconds\")"
   ]
  },
  {
   "cell_type": "code",
   "execution_count": 7,
   "id": "5a5463c5-9f17-41d2-b6ef-e92bbce9c623",
   "metadata": {},
   "outputs": [
    {
     "name": "stderr",
     "output_type": "stream",
     "text": [
      "2024-12-09 14:12:54,890 bootstrap_result(lb_one_sided=110.68420894063259, lb_two_sided=110.58410772431421, ub_one_sided=111.28590373196879, ub_two_sided=111.35650601559831)\n",
      "2024-12-09 14:12:54,891 cost 0.0961 seconds\n"
     ]
    }
   ],
   "source": [
    "tic = time.perf_counter()\n",
    "accuracy_estimator = RP_accuracy_estimator(kwargs)\n",
    "boot_res = accuracy_estimator.estimate_pairwise_distance_acc(isit_samples)\n",
    "toc = time.perf_counter()\n",
    "logging.critical(boot_res)\n",
    "logging.critical(f\"cost {toc - tic:0.4f} seconds\")"
   ]
  },
  {
   "cell_type": "code",
   "execution_count": 8,
   "id": "4a12e4a9-5fce-4f22-861f-604c5dfcc27d",
   "metadata": {},
   "outputs": [
    {
     "name": "stderr",
     "output_type": "stream",
     "text": [
      "2024-12-09 14:13:45,739 cost 47.1970 seconds\n"
     ]
    }
   ],
   "source": [
    "mech = OptimalRP_mech(kwargs)\n",
    "\n",
    "epsilon = 1\n",
    "delta = 1/mech.n\n",
    "num_samples = 100\n",
    "\n",
    "tic = time.perf_counter()\n",
    "samples = parallel_gen_samples(mech, epsilon, delta, num_samples, workers=50)\n",
    "toc = time.perf_counter()\n",
    "logging.critical(f\"cost {toc - tic:0.4f} seconds\")"
   ]
  },
  {
   "cell_type": "code",
   "execution_count": 9,
   "id": "3dec1eb9-40c4-4555-af4c-2395a3e8311e",
   "metadata": {},
   "outputs": [
    {
     "name": "stderr",
     "output_type": "stream",
     "text": [
      "2024-12-09 14:13:45,836 bootstrap_result(lb_one_sided=0.996017261037031, lb_two_sided=0.9958141311578566, ub_one_sided=1.0015874677844387, ub_two_sided=1.001790762886305)\n",
      "2024-12-09 14:13:45,837 cost 0.0914 seconds\n"
     ]
    }
   ],
   "source": [
    "tic = time.perf_counter()\n",
    "accuracy_estimator = RP_accuracy_estimator(kwargs)\n",
    "boot_res = accuracy_estimator.estimate_pairwise_distance_acc(samples)\n",
    "toc = time.perf_counter()\n",
    "logging.critical(boot_res)\n",
    "logging.critical(f\"cost {toc - tic:0.4f} seconds\")"
   ]
  },
  {
   "cell_type": "code",
   "execution_count": 10,
   "id": "b368508b-4bd3-4b97-8290-2e857d63e0ee",
   "metadata": {},
   "outputs": [
    {
     "name": "stderr",
     "output_type": "stream",
     "text": [
      "2024-12-09 14:14:26,233 cost 40.3902 seconds\n"
     ]
    }
   ],
   "source": [
    "alt_mech = ALT19RP_mech(kwargs)\n",
    "# samples = alt_mech._gen_samples(epsilon, delta=delta, num_samples=num_samples)\n",
    "\n",
    "tic = time.perf_counter()\n",
    "alt_samples = parallel_gen_samples(alt_mech, epsilon, delta, num_samples, workers=50)\n",
    "toc = time.perf_counter()\n",
    "\n",
    "logging.critical(f\"cost {toc - tic:0.4f} seconds\")"
   ]
  },
  {
   "cell_type": "code",
   "execution_count": 11,
   "id": "8e476b47-a6aa-4111-9c8c-57ac01950a81",
   "metadata": {},
   "outputs": [
    {
     "name": "stderr",
     "output_type": "stream",
     "text": [
      "2024-12-09 14:14:26,327 bootstrap_result(lb_one_sided=3.997872156884723, lb_two_sided=3.996592487297705, ub_one_sided=4.016087036559668, ub_two_sided=4.016722730686742)\n",
      "2024-12-09 14:14:26,328 cost 0.0857 seconds\n"
     ]
    }
   ],
   "source": [
    "tic = time.perf_counter()\n",
    "accuracy_estimator = RP_accuracy_estimator(kwargs)\n",
    "boot_res = accuracy_estimator.estimate_pairwise_distance_acc(alt_samples)\n",
    "toc = time.perf_counter()\n",
    "logging.critical(boot_res)\n",
    "logging.critical(f\"cost {toc - tic:0.4f} seconds\")"
   ]
  },
  {
   "cell_type": "code",
   "execution_count": 12,
   "id": "eecc5932-86e8-43c7-8b4c-52704e75b97d",
   "metadata": {},
   "outputs": [
    {
     "name": "stderr",
     "output_type": "stream",
     "text": [
      "2024-12-09 14:15:05,024 cost 38.6906 seconds\n"
     ]
    }
   ],
   "source": [
    "tic = time.perf_counter()\n",
    "samples = parallel_gen_samples(mech, epsilon, delta=1, num_samples=num_samples, workers=50)\n",
    "toc = time.perf_counter()\n",
    "logging.critical(f\"cost {toc - tic:0.4f} seconds\")"
   ]
  },
  {
   "cell_type": "code",
   "execution_count": 13,
   "id": "c0e5c70f-5184-40cb-85c8-60d1bb5262a6",
   "metadata": {},
   "outputs": [
    {
     "name": "stderr",
     "output_type": "stream",
     "text": [
      "2024-12-09 14:15:05,117 bootstrap_result(lb_one_sided=0.9978168817085027, lb_two_sided=0.9974493033298009, ub_one_sided=1.00314995157654, ub_two_sided=1.0032662842395084)\n",
      "2024-12-09 14:15:05,118 cost 0.0878 seconds\n"
     ]
    }
   ],
   "source": [
    "tic = time.perf_counter()\n",
    "accuracy_estimator = RP_accuracy_estimator(kwargs)\n",
    "boot_res = accuracy_estimator.estimate_pairwise_distance_acc(samples)\n",
    "toc = time.perf_counter()\n",
    "logging.critical(boot_res)\n",
    "logging.critical(f\"cost {toc - tic:0.4f} seconds\")"
   ]
  },
  {
   "cell_type": "code",
   "execution_count": null,
   "id": "684cf6af-cc01-4c35-8bbf-7d52deed173c",
   "metadata": {},
   "outputs": [],
   "source": []
  }
 ],
 "metadata": {
  "kernelspec": {
   "display_name": "Python 3.8 - Learning [learning/conda-2020.11-py38-cpu]",
   "language": "python",
   "name": "sys_learning38"
  },
  "language_info": {
   "codemirror_mode": {
    "name": "ipython",
    "version": 3
   },
   "file_extension": ".py",
   "mimetype": "text/x-python",
   "name": "python",
   "nbconvert_exporter": "python",
   "pygments_lexer": "ipython3",
   "version": "3.8.5"
  }
 },
 "nbformat": 4,
 "nbformat_minor": 5
}
