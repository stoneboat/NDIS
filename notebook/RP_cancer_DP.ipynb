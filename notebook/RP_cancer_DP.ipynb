{
 "cells": [
  {
   "cell_type": "code",
   "execution_count": 1,
   "id": "62ce65b3-174c-48de-8ef7-05c84b6ae11d",
   "metadata": {},
   "outputs": [],
   "source": [
    "import numpy as np\n",
    "from scipy.special import erf\n",
    "import os\n",
    "import sys\n",
    "import time\n",
    "import copy\n",
    "import logging\n",
    "import matplotlib.pyplot as plt\n",
    "\n",
    "# Navigate to the parent directory of the project structure\n",
    "project_dir = os.path.abspath(os.path.join(os.getcwd(), '..'))\n",
    "src_dir = os.path.join(project_dir, 'src')\n",
    "log_dir = os.path.join(project_dir, 'log')\n",
    "fig_dir = os.path.join(project_dir, 'fig')\n",
    "\n",
    "# Add the src directory to sys.path\n",
    "sys.path.append(src_dir)\n",
    "\n",
    "\n",
    "from utils.constants import WORKERS, BATCH_SAMPLES\n",
    "from utils.commons import convert_bytes_to_mb, convert_bytes_to_gb\n",
    "from Dataset.flight_dataset_for_LS import load_flight_dataset_matrices_for_LS, save_flight_dataset_matrices_for_LS\n",
    "from Dataset.cancer_dataset_for_LS import main_generate_cancer_matrices_for_LS, load_cancer_dataset_matrices_for_LS\n",
    "from Dataset.songs_dataset_for_LS import load_song_dataset_matrices_for_LS\n",
    "from analysis.commons import data_normalize_by_features, concatenate_B_b, twoNorm, data_normalize_by_sample\n",
    "\n",
    "from RP_mechanisms.optim_RP_DP import OptimalRP_mech, compute_largest_l2\n",
    "from RP_mechanisms.alt19_RP_DP import ALT19RP_mech\n",
    "from RP_mechanisms.RP_accuracy_estimator import RP_accuracy_estimator\n",
    "\n",
    "from analysis.commons import compute_xopt, split_to_B_b"
   ]
  },
  {
   "cell_type": "code",
   "execution_count": 2,
   "id": "2bbe5a75-b2ec-43cf-bfb1-449dd8f212ab",
   "metadata": {},
   "outputs": [],
   "source": [
    "logfile_path = os.path.join(log_dir, 'RP-cancer-default.log')\n",
    "logging.basicConfig(\n",
    "    level=logging.INFO,\n",
    "    format=\"%(asctime)s %(message)s\",\n",
    "    handlers=[\n",
    "        logging.FileHandler(logfile_path),\n",
    "        logging.StreamHandler()\n",
    "    ]\n",
    ")\n",
    "\n",
    "def store_array_str(data_array):\n",
    "    converted_str = np.array_str(data_array)\n",
    "    converted_str = converted_str.replace(' ',',')\n",
    "    return converted_str\n",
    "\n",
    "file_X_path = os.path.join(project_dir, \"Dataset\", \"cancer-LR-X.txt\")\n",
    "file_y_path = os.path.join(project_dir, \"Dataset\", \"cancer-LR-y.txt\")\n",
    "\n",
    "X = None\n",
    "y = None\n",
    "try:\n",
    "    X, y = load_cancer_dataset_matrices_for_LS(file_X_name=file_X_path, file_y_name=file_y_path)\n",
    "except:\n",
    "    main_generate_cancer_matrices_for_LS(file_X_name=file_X_path, file_y_name=file_y_path)\n",
    "    X, y = load_cancer_dataset_matrices_for_LS()"
   ]
  },
  {
   "cell_type": "code",
   "execution_count": 3,
   "id": "0f17ee28-17f1-48cc-aa35-bb0dcdfa5988",
   "metadata": {},
   "outputs": [],
   "source": [
    "B, b = data_normalize_by_features(X, y)\n",
    "A = concatenate_B_b(B, b)\n",
    "\n",
    "def generate_default_configuration():\n",
    "    kwargs = {\n",
    "        'database': A,\n",
    "        'r' : 300,\n",
    "        'CI' : 0.95,\n",
    "        'bootstrap_samples': 100,\n",
    "        'l2' : compute_largest_l2(A)\n",
    "    }\n",
    "    \n",
    "    return kwargs\n",
    "\n",
    "kwargs = generate_default_configuration()"
   ]
  },
  {
   "cell_type": "code",
   "execution_count": 4,
   "id": "19678beb-b4cb-4388-b736-1051c5d9cbd4",
   "metadata": {},
   "outputs": [
    {
     "name": "stdout",
     "output_type": "stream",
     "text": [
      "6.850481817751286\n"
     ]
    },
    {
     "name": "stderr",
     "output_type": "stream",
     "text": [
      "/home/wei402/Desktop/NDIS/src/RP_mechanisms/optim_RP.py:25: RuntimeWarning: overflow encountered in exp\n",
      "  exp_term = np.exp(epsilon - r / 2 * np.log(1 - leverage)) * (1 - leverage) ** (r / 2.0)\n",
      "/home/wei402/Desktop/NDIS/src/RP_mechanisms/optim_RP.py:25: RuntimeWarning: invalid value encountered in double_scalars\n",
      "  exp_term = np.exp(epsilon - r / 2 * np.log(1 - leverage)) * (1 - leverage) ** (r / 2.0)\n"
     ]
    }
   ],
   "source": [
    "mech = OptimalRP_mech(kwargs)\n",
    "\n",
    "epsilon = 1\n",
    "delta = 1/mech.n\n",
    "num_samples = 100\n",
    "sigma = mech.find_minimal_sigma(epsilon, delta)\n",
    "print(sigma)"
   ]
  },
  {
   "cell_type": "code",
   "execution_count": 5,
   "id": "92d10de1-0b56-4bd3-9809-953f9b17edef",
   "metadata": {},
   "outputs": [],
   "source": [
    "mech = OptimalRP_mech(kwargs)\n",
    "\n",
    "epsilon = 1\n",
    "delta = 1/mech.n\n",
    "num_samples = 100\n",
    "sigma = mech.find_minimal_sigma(epsilon, delta)\n",
    "samples = mech._gen_samples(epsilon, delta=delta, num_samples=num_samples)"
   ]
  },
  {
   "cell_type": "code",
   "execution_count": 6,
   "id": "2f294eec-bb8e-4316-a4c8-e05af4f3e455",
   "metadata": {},
   "outputs": [
    {
     "data": {
      "text/plain": [
       "bootstrap_result(lb_one_sided=18.94835466586992, lb_two_sided=18.94002408522496, ub_one_sided=19.02415219180172, ub_two_sided=19.03005572862427)"
      ]
     },
     "execution_count": 6,
     "metadata": {},
     "output_type": "execute_result"
    }
   ],
   "source": [
    "accuracy_estimator = RP_accuracy_estimator(kwargs)\n",
    "accuracy_estimator.estimate_pairwise_distance_acc(samples)"
   ]
  },
  {
   "cell_type": "code",
   "execution_count": 7,
   "id": "38ceedc5-7d02-412b-b7c0-3650fac499c8",
   "metadata": {},
   "outputs": [
    {
     "data": {
      "text/plain": [
       "bootstrap_result(lb_one_sided=0.39524544251123056, lb_two_sided=0.3949484416235925, ub_one_sided=0.40104803495098, ub_two_sided=0.40147782441690266)"
      ]
     },
     "execution_count": 7,
     "metadata": {},
     "output_type": "execute_result"
    }
   ],
   "source": [
    "accuracy_estimator.estimate_dot_product_acc(samples)"
   ]
  },
  {
   "cell_type": "code",
   "execution_count": 8,
   "id": "cea7c2fb-3e05-4d3d-8ad6-1cf595bab5a0",
   "metadata": {},
   "outputs": [
    {
     "data": {
      "text/plain": [
       "bootstrap_result(lb_one_sided=55.84380990629334, lb_two_sided=55.834788505687385, ub_one_sided=56.10716319139692, ub_two_sided=56.12636874540118)"
      ]
     },
     "execution_count": 8,
     "metadata": {},
     "output_type": "execute_result"
    }
   ],
   "source": [
    "epsilon = 1\n",
    "num_samples = 100\n",
    "alt_mech = ALT19RP_mech(kwargs)\n",
    "delta = 1/alt_mech.n\n",
    "alt_mech.compute_constant(epsilon, delta)\n",
    "samples = alt_mech._gen_samples(epsilon, delta=delta, num_samples=num_samples)\n",
    "\n",
    "accuracy_estimator = RP_accuracy_estimator(kwargs)\n",
    "accuracy_estimator.estimate_pairwise_distance_acc(samples)"
   ]
  },
  {
   "cell_type": "code",
   "execution_count": 9,
   "id": "bcfc0676-3656-45f3-8e49-5265d0606c2d",
   "metadata": {},
   "outputs": [
    {
     "data": {
      "text/plain": [
       "bootstrap_result(lb_one_sided=0.3819243069492151, lb_two_sided=0.38167802597042066, ub_one_sided=0.3880936483501558, ub_two_sided=0.388620249021518)"
      ]
     },
     "execution_count": 9,
     "metadata": {},
     "output_type": "execute_result"
    }
   ],
   "source": [
    "accuracy_estimator.estimate_dot_product_acc(samples)"
   ]
  },
  {
   "cell_type": "code",
   "execution_count": null,
   "id": "f870504e-409a-4d95-9c31-976340379d8a",
   "metadata": {},
   "outputs": [],
   "source": []
  }
 ],
 "metadata": {
  "kernelspec": {
   "display_name": "Python 3.8 - Learning [learning/conda-2020.11-py38-cpu]",
   "language": "python",
   "name": "sys_learning38"
  },
  "language_info": {
   "codemirror_mode": {
    "name": "ipython",
    "version": 3
   },
   "file_extension": ".py",
   "mimetype": "text/x-python",
   "name": "python",
   "nbconvert_exporter": "python",
   "pygments_lexer": "ipython3",
   "version": "3.8.5"
  }
 },
 "nbformat": 4,
 "nbformat_minor": 5
}
